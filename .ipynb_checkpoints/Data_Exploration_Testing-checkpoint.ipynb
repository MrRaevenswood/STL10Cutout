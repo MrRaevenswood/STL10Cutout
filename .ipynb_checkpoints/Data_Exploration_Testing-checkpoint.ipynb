{
 "cells": [
  {
   "cell_type": "code",
   "execution_count": 28,
   "metadata": {
    "execution": {
     "iopub.execute_input": "2022-01-14T03:51:40.715567Z",
     "iopub.status.busy": "2022-01-14T03:51:40.715265Z",
     "iopub.status.idle": "2022-01-14T03:51:40.722803Z",
     "shell.execute_reply": "2022-01-14T03:51:40.722340Z",
     "shell.execute_reply.started": "2022-01-14T03:51:40.715540Z"
    },
    "id": "91ush3xSxcRq",
    "tags": []
   },
   "outputs": [],
   "source": [
    "from __future__ import print_function, division\n",
    "\n",
    "import sys\n",
    "import os, sys, tarfile, errno\n",
    "import numpy as np\n",
    "import matplotlib.pyplot as plt\n",
    "from PIL import Image\n",
    "from imageio import imsave,imread\n",
    "import pandas as pd\n",
    "import shutil\n",
    "\n",
    "import torch\n",
    "import torch.nn as nn\n",
    "import torch.optim as optim\n",
    "from torch.optim import lr_scheduler\n",
    "import torchvision\n",
    "from torchvision import datasets, models, transforms\n",
    "import matplotlib.pyplot as plt\n",
    "from matplotlib.pyplot import imshow\n",
    "import time\n",
    "import copy\n",
    "from cutout import Cutout \n",
    "\n",
    "from STLData import *\n",
    "from projectUtil import *\n",
    "plt.ion() \n",
    "%matplotlib inline"
   ]
  },
  {
   "cell_type": "code",
   "execution_count": 2,
   "metadata": {
    "execution": {
     "iopub.execute_input": "2022-01-13T22:24:16.841220Z",
     "iopub.status.busy": "2022-01-13T22:24:16.840919Z",
     "iopub.status.idle": "2022-01-13T22:24:16.845648Z",
     "shell.execute_reply": "2022-01-13T22:24:16.845194Z",
     "shell.execute_reply.started": "2022-01-13T22:24:16.841195Z"
    },
    "tags": []
   },
   "outputs": [],
   "source": [
    "def renameAndOrganize(strDir):\n",
    "    labelsDict = {1:\"airplane\",2:\"bird\",3:\"car\",4:\"cat\",5:\"deer\",6:\"dog\",7:\"horse\",8:\"monkey\",9:\"ship\",10:\"truck\"}\n",
    "    directoryList = [1,2,3,4,5,6,7,8,9,10]\n",
    "    \n",
    "    for dir in directoryList:\n",
    "      os.rename(directory + str(dir), directory + labelsDict.get(dir) + '/')\n",
    "      shutil.move(directory + labelsDict.get(dir) + '/', directory + strDir + labelsDict.get(dir) + '/')"
   ]
  },
  {
   "cell_type": "code",
   "execution_count": null,
   "metadata": {
    "execution": {
     "iopub.status.busy": "2022-01-14T04:35:10.759619Z",
     "iopub.status.idle": "2022-01-14T04:35:10.759848Z",
     "shell.execute_reply": "2022-01-14T04:35:10.759741Z",
     "shell.execute_reply.started": "2022-01-14T04:35:10.759729Z"
    },
    "tags": []
   },
   "outputs": [],
   "source": [
    "def defineModel(withCutOut):\n",
    "    data_transforms = {}\n",
    "    if withCutOut:\n",
    "        data_transforms = {\n",
    "            'train': transforms.Compose([\n",
    "            transforms.ToTensor(),\n",
    "            transforms.Normalize([0.485, 0.456, 0.406], [0.229, 0.224, 0.225]),\n",
    "            Cutout(2, 9)\n",
    "            ]),\n",
    "            'val': transforms.Compose([\n",
    "            transforms.ToTensor(),\n",
    "            transforms.Normalize([0.485, 0.456, 0.406], [0.229, 0.224, 0.225])\n",
    "            ]),\n",
    "        }\n",
    "    else:\n",
    "        data_transforms = {\n",
    "            'train': transforms.Compose([\n",
    "            transforms.ToTensor(),\n",
    "            transforms.Normalize([0.485, 0.456, 0.406], [0.229, 0.224, 0.225])\n",
    "            ]),\n",
    "            'val': transforms.Compose([\n",
    "            transforms.ToTensor(),\n",
    "            transforms.Normalize([0.485, 0.456, 0.406], [0.229, 0.224, 0.225])\n",
    "            ]),\n",
    "        }\n",
    "        \n",
    "    data_dir = './img/'\n",
    "    image_datasets = {x: datasets.ImageFolder(os.path.join(data_dir, x),\n",
    "                                              data_transforms[x])\n",
    "                      for x in ['train', 'val']}\n",
    "    dataloaders = {x: torch.utils.data.DataLoader(image_datasets[x], batch_size=4,\n",
    "                                                 shuffle=True, num_workers=4)\n",
    "                  for x in ['train', 'val']}\n",
    "    dataset_sizes = {x: len(image_datasets[x]) for x in ['train', 'val']}\n",
    "    class_names = image_datasets['train'].classes\n",
    "\n",
    "    device = torch.device(\"cuda:0\" if torch.cuda.is_available() else \"cpu\")\n",
    "\n",
    "    model_ft = models.resnet34(pretrained=True)\n",
    "    num_ftrs = model_ft.fc.in_features\n",
    "    # Here the size of each output sample is set to 2.\n",
    "    # Alternatively, it can be generalized to nn.Linear(num_ftrs, len(class_names)).\n",
    "    model_ft.fc = nn.Linear(num_ftrs, 10)\n",
    "\n",
    "    model_ft = model_ft.to(device)\n",
    "\n",
    "    criterion = nn.CrossEntropyLoss()\n",
    "\n",
    "    # Observe that all parameters are being optimized\n",
    "    optimizer_ft = optim.SGD(model_ft.parameters(), lr=0.001, momentum=0.9)\n",
    "\n",
    "    # Decay LR by a factor of 0.1 every 7 epochs\n",
    "    exp_lr_scheduler = lr_scheduler.StepLR(optimizer_ft, step_size=7, gamma=0.1)\n",
    "    \n",
    "    return model_ft, criterion, optimizer_ft, exp_lr_scheduler, dataloaders, device, dataset_sizes"
   ]
  },
  {
   "cell_type": "code",
   "execution_count": 26,
   "metadata": {
    "execution": {
     "iopub.execute_input": "2022-01-14T03:31:37.050040Z",
     "iopub.status.busy": "2022-01-14T03:31:37.049758Z",
     "iopub.status.idle": "2022-01-14T03:31:37.057985Z",
     "shell.execute_reply": "2022-01-14T03:31:37.057516Z",
     "shell.execute_reply.started": "2022-01-14T03:31:37.050017Z"
    },
    "tags": []
   },
   "outputs": [],
   "source": [
    "def train_model(model, criterion, optimizer, scheduler, dataloaders, device, dataset_sizes, num_epochs=25):\n",
    "    since = time.time()\n",
    "\n",
    "    best_model_wts = copy.deepcopy(model.state_dict())\n",
    "    best_acc = 0.0\n",
    "\n",
    "    for epoch in range(num_epochs):\n",
    "        print('Epoch {}/{}'.format(epoch, num_epochs - 1))\n",
    "        print('-' * 10)\n",
    "\n",
    "        # Each epoch has a training and validation phase\n",
    "        for phase in ['train', 'val']:\n",
    "            if phase == 'train':\n",
    "                model.train()  # Set model to training mode\n",
    "            else:\n",
    "                model.eval()   # Set model to evaluate mode\n",
    "\n",
    "            running_loss = 0.0\n",
    "            running_corrects = 0\n",
    "\n",
    "            # Iterate over data.\n",
    "            for inputs, labels in dataloaders[phase]:\n",
    "                inputs = inputs.to(device)\n",
    "                labels = labels.to(device)\n",
    "\n",
    "                # zero the parameter gradients\n",
    "                optimizer.zero_grad()\n",
    "\n",
    "                # forward\n",
    "                # track history if only in train\n",
    "                with torch.set_grad_enabled(phase == 'train'):\n",
    "                    outputs = model(inputs)\n",
    "                    _, preds = torch.max(outputs, 1)\n",
    "                    loss = criterion(outputs, labels)\n",
    "\n",
    "                    # backward + optimize only if in training phase\n",
    "                    if phase == 'train':\n",
    "                        loss.backward()\n",
    "                        optimizer.step()\n",
    "\n",
    "                # statistics\n",
    "                running_loss += loss.item() * inputs.size(0)\n",
    "                running_corrects += torch.sum(preds == labels.data)\n",
    "            if phase == 'train':\n",
    "                scheduler.step()\n",
    "\n",
    "            epoch_loss = running_loss / dataset_sizes[phase]\n",
    "            epoch_acc = running_corrects.double() / dataset_sizes[phase]\n",
    "\n",
    "            print('{} Loss: {:.4f} Acc: {:.4f}'.format(\n",
    "                phase, epoch_loss, epoch_acc))\n",
    "\n",
    "            # deep copy the model\n",
    "            if phase == 'val' and epoch_acc > best_acc:\n",
    "                best_acc = epoch_acc\n",
    "                best_model_wts = copy.deepcopy(model.state_dict())\n",
    "\n",
    "        print()\n",
    "\n",
    "    time_elapsed = time.time() - since\n",
    "    print('Training complete in {:.0f}m {:.0f}s'.format(\n",
    "        time_elapsed // 60, time_elapsed % 60))\n",
    "    print('Best val Acc: {:4f}'.format(best_acc))\n",
    "\n",
    "    # load best model weights\n",
    "    model.load_state_dict(best_model_wts)\n",
    "    return model"
   ]
  },
  {
   "cell_type": "code",
   "execution_count": null,
   "metadata": {
    "colab": {
     "base_uri": "https://localhost:8080/",
     "height": 1000
    },
    "execution": {
     "iopub.execute_input": "2022-01-14T05:01:12.037676Z",
     "iopub.status.busy": "2022-01-14T05:01:12.037432Z"
    },
    "id": "rbUFaO1Nxya5",
    "outputId": "59c483a2-055c-46cf-81a0-87e1d2fd84c1",
    "tags": []
   },
   "outputs": [
    {
     "data": {
      "image/png": "[encoded data removed]",
      "text/plain": [
       "<Figure size 432x288 with 1 Axes>"
      ]
     },
     "metadata": {
      "needs_background": "light"
     },
     "output_type": "display_data"
    },
    {
     "name": "stdout",
     "output_type": "stream",
     "text": [
      "(5000, 96, 96, 3)\n",
      "(5000,)\n",
      "Saving images to disk\n"
     ]
    }
   ],
   "source": [
    "imagesList = \"\"\n",
    "labels = \"\"\n",
    "# download data if needed\n",
    "#download_and_extract()\n",
    "\n",
    "# test to check if the image is read correctly\n",
    "with open('./data/stl10_binary/train_X.bin') as f:\n",
    "    image = read_single_image(f)\n",
    "    plot_image(image)\n",
    "\n",
    "# test to check if the whole dataset is read correctly\n",
    "imagesList = read_all_images('./data/stl10_binary/train_X.bin')\n",
    "print(imagesList.shape)\n",
    "\n",
    "labels = read_labels('./data/stl10_binary/train_y.bin')\n",
    "print(labels.shape)\n",
    "\n",
    "# save images to disk\n",
    "save_images(imagesList, labels)"
   ]
  },
  {
   "cell_type": "code",
   "execution_count": 6,
   "metadata": {
    "execution": {
     "iopub.execute_input": "2022-01-13T20:38:30.633988Z",
     "iopub.status.busy": "2022-01-13T20:38:30.633760Z",
     "iopub.status.idle": "2022-01-13T20:38:30.809826Z",
     "shell.execute_reply": "2022-01-13T20:38:30.808891Z",
     "shell.execute_reply.started": "2022-01-13T20:38:30.633969Z"
    },
    "tags": []
   },
   "outputs": [
    {
     "ename": "FileExistsError",
     "evalue": "[Errno 17] File exists: './img/val/'",
     "output_type": "error",
     "traceback": [
      "\u001b[0;31m---------------------------------------------------------------------------\u001b[0m",
      "\u001b[0;31mFileExistsError\u001b[0m                           Traceback (most recent call last)",
      "\u001b[0;32m/tmp/ipykernel_461/1773423250.py\u001b[0m in \u001b[0;36m<module>\u001b[0;34m\u001b[0m\n\u001b[1;32m      1\u001b[0m \u001b[0mdirectory\u001b[0m \u001b[0;34m=\u001b[0m \u001b[0;34m'./img/'\u001b[0m\u001b[0;34m\u001b[0m\u001b[0;34m\u001b[0m\u001b[0m\n\u001b[0;32m----> 2\u001b[0;31m \u001b[0mos\u001b[0m\u001b[0;34m.\u001b[0m\u001b[0mmakedirs\u001b[0m\u001b[0;34m(\u001b[0m\u001b[0mdirectory\u001b[0m \u001b[0;34m+\u001b[0m \u001b[0;34m'val/'\u001b[0m\u001b[0;34m)\u001b[0m\u001b[0;34m\u001b[0m\u001b[0;34m\u001b[0m\u001b[0m\n\u001b[0m\u001b[1;32m      3\u001b[0m \u001b[0;34m\u001b[0m\u001b[0m\n\u001b[1;32m      4\u001b[0m \u001b[0mrenameAndOrganize\u001b[0m\u001b[0;34m(\u001b[0m\u001b[0;34m'val/'\u001b[0m\u001b[0;34m)\u001b[0m\u001b[0;34m\u001b[0m\u001b[0;34m\u001b[0m\u001b[0m\n",
      "\u001b[0;32m/srv/conda/envs/saturn/lib/python3.9/os.py\u001b[0m in \u001b[0;36mmakedirs\u001b[0;34m(name, mode, exist_ok)\u001b[0m\n\u001b[1;32m    223\u001b[0m             \u001b[0;32mreturn\u001b[0m\u001b[0;34m\u001b[0m\u001b[0;34m\u001b[0m\u001b[0m\n\u001b[1;32m    224\u001b[0m     \u001b[0;32mtry\u001b[0m\u001b[0;34m:\u001b[0m\u001b[0;34m\u001b[0m\u001b[0;34m\u001b[0m\u001b[0m\n\u001b[0;32m--> 225\u001b[0;31m         \u001b[0mmkdir\u001b[0m\u001b[0;34m(\u001b[0m\u001b[0mname\u001b[0m\u001b[0;34m,\u001b[0m \u001b[0mmode\u001b[0m\u001b[0;34m)\u001b[0m\u001b[0;34m\u001b[0m\u001b[0;34m\u001b[0m\u001b[0m\n\u001b[0m\u001b[1;32m    226\u001b[0m     \u001b[0;32mexcept\u001b[0m \u001b[0mOSError\u001b[0m\u001b[0;34m:\u001b[0m\u001b[0;34m\u001b[0m\u001b[0;34m\u001b[0m\u001b[0m\n\u001b[1;32m    227\u001b[0m         \u001b[0;31m# Cannot rely on checking for EEXIST, since the operating system\u001b[0m\u001b[0;34m\u001b[0m\u001b[0;34m\u001b[0m\u001b[0m\n",
      "\u001b[0;31mFileExistsError\u001b[0m: [Errno 17] File exists: './img/val/'"
     ]
    }
   ],
   "source": [
    "directory = './img/'\n",
    "os.makedirs(directory + 'val/')\n",
    "\n",
    "renameAndOrganize('val/')"
   ]
  },
  {
   "cell_type": "code",
   "execution_count": null,
   "metadata": {
    "colab": {
     "base_uri": "https://localhost:8080/"
    },
    "execution": {
     "iopub.execute_input": "2022-01-13T22:24:39.114359Z",
     "iopub.status.busy": "2022-01-13T22:24:39.114135Z",
     "iopub.status.idle": "2022-01-13T22:25:03.710061Z",
     "shell.execute_reply": "2022-01-13T22:25:03.709563Z",
     "shell.execute_reply.started": "2022-01-13T22:24:39.114339Z"
    },
    "id": "g4G2ZN9xJJAU",
    "outputId": "eae2b4f3-48f2-4933-b0f2-0b4bb2500da2",
    "tags": []
   },
   "outputs": [],
   "source": [
    "testImagesList = read_all_images('./data/stl10_binary/test_X.bin')\n",
    "\n",
    "testLabels = read_labels('./data/stl10_binary/test_y.bin')\n",
    "\n",
    "# save images to disk\n",
    "save_images(testImagesList, testLabels)"
   ]
  },
  {
   "cell_type": "code",
   "execution_count": null,
   "metadata": {
    "execution": {
     "iopub.status.busy": "2022-01-13T20:38:30.811715Z",
     "iopub.status.idle": "2022-01-13T20:38:30.811926Z",
     "shell.execute_reply": "2022-01-13T20:38:30.811826Z",
     "shell.execute_reply.started": "2022-01-13T20:38:30.811815Z"
    },
    "id": "cPioplw1s2y4",
    "tags": []
   },
   "outputs": [],
   "source": [
    "directory = './img/'\n",
    "os.makedirs(directory + 'train/')\n",
    "\n",
    "renameAndOrganize('train/')"
   ]
  },
  {
   "cell_type": "code",
   "execution_count": 7,
   "metadata": {
    "colab": {
     "base_uri": "https://localhost:8080/",
     "height": 316
    },
    "execution": {
     "iopub.execute_input": "2022-01-13T20:42:07.312792Z",
     "iopub.status.busy": "2022-01-13T20:42:07.312477Z",
     "iopub.status.idle": "2022-01-13T20:42:07.424981Z",
     "shell.execute_reply": "2022-01-13T20:42:07.424485Z",
     "shell.execute_reply.started": "2022-01-13T20:42:07.312768Z"
    },
    "id": "hMmePLYK1Bt5",
    "outputId": "519baccd-8826-404b-863e-1e0ec766ead0",
    "tags": []
   },
   "outputs": [
    {
     "data": {
      "text/plain": [
       "array([[<AxesSubplot:title={'center':'0'}>]], dtype=object)"
      ]
     },
     "execution_count": 7,
     "metadata": {},
     "output_type": "execute_result"
    },
    {
     "data": {
      "image/png": "[encoded data removed]",
      "text/plain": [
       "<Figure size 432x288 with 1 Axes>"
      ]
     },
     "metadata": {
      "needs_background": "light"
     },
     "output_type": "display_data"
    }
   ],
   "source": [
    "pd.DataFrame(labels).hist()"
   ]
  },
  {
   "cell_type": "code",
   "execution_count": null,
   "metadata": {
    "execution": {
     "iopub.status.busy": "2022-01-13T20:38:30.813559Z",
     "iopub.status.idle": "2022-01-13T20:38:30.813769Z",
     "shell.execute_reply": "2022-01-13T20:38:30.813669Z",
     "shell.execute_reply.started": "2022-01-13T20:38:30.813657Z"
    },
    "id": "aAdOX-ZOqIxd",
    "tags": []
   },
   "outputs": [],
   "source": [
    "airplane_images = img2np(imagesList, 'airplane',labels)\n",
    "bird_images = img2np(imagesList,'bird',labels)\n",
    "car_images = img2np(imagesList,'car',labels)\n",
    "cat_images = img2np(imagesList, 'cat',labels)\n",
    "deer_images = img2np(imagesList, 'deer',labels)\n",
    "dog_images = img2np(imagesList, 'dog',labels)\n",
    "horse_images = img2np(imagesList, 'horse',labels)\n",
    "monkey_images = img2np(imagesList, 'monkey',labels)\n",
    "ship_images = img2np(imagesList, 'ship',labels)\n",
    "truck_images = img2np(imagesList, 'truck',labels)"
   ]
  },
  {
   "cell_type": "code",
   "execution_count": null,
   "metadata": {
    "execution": {
     "iopub.status.busy": "2022-01-13T20:38:30.814491Z",
     "iopub.status.idle": "2022-01-13T20:38:30.814739Z",
     "shell.execute_reply": "2022-01-13T20:38:30.814634Z",
     "shell.execute_reply.started": "2022-01-13T20:38:30.814622Z"
    },
    "id": "4bnLPBqgx5GA",
    "tags": []
   },
   "outputs": [],
   "source": [
    "airplane_mean = find_mean_img(airplane_images)\n",
    "bird_mean = find_mean_img(bird_images)\n",
    "car_mean = find_mean_img(car_images)\n",
    "cat_mean = find_mean_img(cat_images)\n",
    "deer_mean = find_mean_img(deer_images)\n",
    "dog_mean = find_mean_img(dog_images)\n",
    "horse_mean = find_mean_img(horse_images)\n",
    "monkey_mean = find_mean_img(monkey_images)\n",
    "ship_mean = find_mean_img(ship_images)\n",
    "truck_mean = find_mean_img(truck_images)"
   ]
  },
  {
   "cell_type": "code",
   "execution_count": null,
   "metadata": {
    "colab": {
     "base_uri": "https://localhost:8080/",
     "height": 264
    },
    "execution": {
     "iopub.status.busy": "2022-01-13T20:38:30.815460Z",
     "iopub.status.idle": "2022-01-13T20:38:30.815668Z",
     "shell.execute_reply": "2022-01-13T20:38:30.815569Z",
     "shell.execute_reply.started": "2022-01-13T20:38:30.815558Z"
    },
    "id": "lUYhhIGoEvmW",
    "outputId": "def4f7a8-5404-48ad-e2c4-8cd51a851921",
    "tags": []
   },
   "outputs": [],
   "source": [
    "contrast_mean = dog_mean - cat_mean\n",
    "plt.imshow(contrast_mean, cmap='bwr')\n",
    "plt.title(f'Difference Between Dog & Cat Average')\n",
    "plt.axis('off')\n",
    "plt.show()"
   ]
  },
  {
   "cell_type": "code",
   "execution_count": null,
   "metadata": {
    "colab": {
     "base_uri": "https://localhost:8080/",
     "height": 264
    },
    "execution": {
     "iopub.status.busy": "2022-01-13T20:38:30.816357Z",
     "iopub.status.idle": "2022-01-13T20:38:30.816568Z",
     "shell.execute_reply": "2022-01-13T20:38:30.816467Z",
     "shell.execute_reply.started": "2022-01-13T20:38:30.816456Z"
    },
    "id": "pZFf6FKsgLQl",
    "outputId": "c14cedc0-8641-4724-945b-71ee20e90f8f",
    "tags": []
   },
   "outputs": [],
   "source": [
    "contrast_mean = deer_mean - horse_mean\n",
    "plt.imshow(contrast_mean, cmap='bwr')\n",
    "plt.title(f'Difference Between Deer & Horse Average')\n",
    "plt.axis('off')\n",
    "plt.show()"
   ]
  },
  {
   "cell_type": "code",
   "execution_count": null,
   "metadata": {
    "colab": {
     "base_uri": "https://localhost:8080/",
     "height": 264
    },
    "execution": {
     "iopub.status.busy": "2022-01-13T20:38:30.817337Z",
     "iopub.status.idle": "2022-01-13T20:38:30.817545Z",
     "shell.execute_reply": "2022-01-13T20:38:30.817445Z",
     "shell.execute_reply.started": "2022-01-13T20:38:30.817434Z"
    },
    "id": "_Twqwa7oga1n",
    "outputId": "50c80ff5-835b-4e19-b0ff-16acedeb798d",
    "tags": []
   },
   "outputs": [],
   "source": [
    "contrast_mean = car_mean - truck_mean\n",
    "plt.imshow(contrast_mean, cmap='bwr')\n",
    "plt.title(f'Difference Between Car & Truck Average')\n",
    "plt.axis('off')\n",
    "plt.show()"
   ]
  },
  {
   "cell_type": "code",
   "execution_count": null,
   "metadata": {
    "colab": {
     "base_uri": "https://localhost:8080/",
     "height": 264
    },
    "execution": {
     "iopub.status.busy": "2022-01-13T20:38:30.818123Z",
     "iopub.status.idle": "2022-01-13T20:38:30.818336Z",
     "shell.execute_reply": "2022-01-13T20:38:30.818234Z",
     "shell.execute_reply.started": "2022-01-13T20:38:30.818222Z"
    },
    "id": "UWoS1B1bgoB9",
    "outputId": "dc6409ee-8011-43e7-d036-a6eff18ecbd8",
    "tags": []
   },
   "outputs": [],
   "source": [
    "contrast_mean = airplane_mean - bird_mean\n",
    "plt.imshow(contrast_mean, cmap='bwr')\n",
    "plt.title(f'Difference Between Airplane & Bird Average')\n",
    "plt.axis('off')\n",
    "plt.show()"
   ]
  },
  {
   "cell_type": "code",
   "execution_count": 56,
   "metadata": {
    "colab": {
     "base_uri": "https://localhost:8080/"
    },
    "execution": {
     "iopub.execute_input": "2022-01-14T04:48:12.385466Z",
     "iopub.status.busy": "2022-01-14T04:48:12.385228Z",
     "iopub.status.idle": "2022-01-14T05:01:12.036367Z",
     "shell.execute_reply": "2022-01-14T05:01:12.035790Z",
     "shell.execute_reply.started": "2022-01-14T04:48:12.385444Z"
    },
    "id": "92dn29QDInBy",
    "outputId": "e4e4a303-ec1c-4767-fcdd-43d4510b7c8e",
    "tags": []
   },
   "outputs": [
    {
     "name": "stdout",
     "output_type": "stream",
     "text": [
      "Epoch 0/14\n",
      "----------\n",
      "train Loss: 1.1807 Acc: 0.6268\n",
      "val Loss: 0.5247 Acc: 0.8350\n",
      "\n",
      "Epoch 1/14\n",
      "----------\n",
      "train Loss: 0.6516 Acc: 0.7909\n",
      "val Loss: 0.5978 Acc: 0.8180\n",
      "\n",
      "Epoch 2/14\n",
      "----------\n",
      "train Loss: 0.4697 Acc: 0.8494\n",
      "val Loss: 0.4870 Acc: 0.8510\n",
      "\n",
      "Epoch 3/14\n",
      "----------\n",
      "train Loss: 0.3134 Acc: 0.8979\n",
      "val Loss: 0.5105 Acc: 0.8504\n",
      "\n",
      "Epoch 4/14\n",
      "----------\n",
      "train Loss: 0.2388 Acc: 0.9266\n",
      "val Loss: 0.4775 Acc: 0.8524\n",
      "\n",
      "Epoch 5/14\n",
      "----------\n",
      "train Loss: 0.1680 Acc: 0.9447\n",
      "val Loss: 0.5715 Acc: 0.8420\n",
      "\n",
      "Epoch 6/14\n",
      "----------\n",
      "train Loss: 0.1419 Acc: 0.9574\n",
      "val Loss: 0.5069 Acc: 0.8582\n",
      "\n",
      "Epoch 7/14\n",
      "----------\n",
      "train Loss: 0.0625 Acc: 0.9818\n",
      "val Loss: 0.4094 Acc: 0.8848\n",
      "\n",
      "Epoch 8/14\n",
      "----------\n",
      "train Loss: 0.0388 Acc: 0.9900\n",
      "val Loss: 0.3855 Acc: 0.8916\n",
      "\n",
      "Epoch 9/14\n",
      "----------\n",
      "train Loss: 0.0322 Acc: 0.9915\n",
      "val Loss: 0.3965 Acc: 0.8872\n",
      "\n",
      "Epoch 10/14\n",
      "----------\n",
      "train Loss: 0.0296 Acc: 0.9929\n",
      "val Loss: 0.3867 Acc: 0.8936\n",
      "\n",
      "Epoch 11/14\n",
      "----------\n",
      "train Loss: 0.0245 Acc: 0.9942\n",
      "val Loss: 0.3807 Acc: 0.8934\n",
      "\n",
      "Epoch 12/14\n",
      "----------\n",
      "train Loss: 0.0223 Acc: 0.9942\n",
      "val Loss: 0.3847 Acc: 0.8954\n",
      "\n",
      "Epoch 13/14\n",
      "----------\n",
      "train Loss: 0.0220 Acc: 0.9948\n",
      "val Loss: 0.3735 Acc: 0.8972\n",
      "\n",
      "Epoch 14/14\n",
      "----------\n",
      "train Loss: 0.0190 Acc: 0.9961\n",
      "val Loss: 0.3940 Acc: 0.8910\n",
      "\n",
      "Training complete in 12m 59s\n",
      "Best val Acc: 0.897200\n"
     ]
    }
   ],
   "source": [
    "model_ft, criterion, optimizer_ft, exp_lr_scheduler, dataloaders, device, dataset_sizes = defineModel(False)\n",
    "model_ft = train_model(model_ft, criterion, optimizer_ft, exp_lr_scheduler, dataloaders, device, dataset_sizes,\n",
    "                       num_epochs=15)"
   ]
  },
  {
   "cell_type": "code",
   "execution_count": 55,
   "metadata": {
    "execution": {
     "iopub.execute_input": "2022-01-14T04:35:12.684944Z",
     "iopub.status.busy": "2022-01-14T04:35:12.684452Z",
     "iopub.status.idle": "2022-01-14T04:48:12.383837Z",
     "shell.execute_reply": "2022-01-14T04:48:12.383260Z",
     "shell.execute_reply.started": "2022-01-14T04:35:12.684918Z"
    },
    "tags": []
   },
   "outputs": [
    {
     "name": "stdout",
     "output_type": "stream",
     "text": [
      "Epoch 0/14\n",
      "----------\n",
      "train Loss: 1.2733 Acc: 0.5986\n",
      "val Loss: 0.5998 Acc: 0.8048\n",
      "\n",
      "Epoch 1/14\n",
      "----------\n",
      "train Loss: 0.6993 Acc: 0.7758\n",
      "val Loss: 0.5102 Acc: 0.8454\n",
      "\n",
      "Epoch 2/14\n",
      "----------\n",
      "train Loss: 0.4818 Acc: 0.8417\n",
      "val Loss: 0.4517 Acc: 0.8610\n",
      "\n",
      "Epoch 3/14\n",
      "----------\n",
      "train Loss: 0.3778 Acc: 0.8716\n",
      "val Loss: 0.5131 Acc: 0.8474\n",
      "\n",
      "Epoch 4/14\n",
      "----------\n",
      "train Loss: 0.2791 Acc: 0.9078\n",
      "val Loss: 0.6326 Acc: 0.8144\n",
      "\n",
      "Epoch 5/14\n",
      "----------\n",
      "train Loss: 0.2179 Acc: 0.9317\n",
      "val Loss: 0.5863 Acc: 0.8394\n",
      "\n",
      "Epoch 6/14\n",
      "----------\n",
      "train Loss: 0.1589 Acc: 0.9510\n",
      "val Loss: 0.5207 Acc: 0.8580\n",
      "\n",
      "Epoch 7/14\n",
      "----------\n",
      "train Loss: 0.0830 Acc: 0.9743\n",
      "val Loss: 0.3929 Acc: 0.8852\n",
      "\n",
      "Epoch 8/14\n",
      "----------\n",
      "train Loss: 0.0505 Acc: 0.9876\n",
      "val Loss: 0.3571 Acc: 0.8914\n",
      "\n",
      "Epoch 9/14\n",
      "----------\n",
      "train Loss: 0.0368 Acc: 0.9918\n",
      "val Loss: 0.3661 Acc: 0.8926\n",
      "\n",
      "Epoch 10/14\n",
      "----------\n",
      "train Loss: 0.0353 Acc: 0.9914\n",
      "val Loss: 0.3603 Acc: 0.8940\n",
      "\n",
      "Epoch 11/14\n",
      "----------\n",
      "train Loss: 0.0298 Acc: 0.9928\n",
      "val Loss: 0.3508 Acc: 0.8922\n",
      "\n",
      "Epoch 12/14\n",
      "----------\n",
      "train Loss: 0.0239 Acc: 0.9935\n",
      "val Loss: 0.3562 Acc: 0.8944\n",
      "\n",
      "Epoch 13/14\n",
      "----------\n",
      "train Loss: 0.0244 Acc: 0.9945\n",
      "val Loss: 0.3669 Acc: 0.8978\n",
      "\n",
      "Epoch 14/14\n",
      "----------\n",
      "train Loss: 0.0204 Acc: 0.9940\n",
      "val Loss: 0.3569 Acc: 0.8962\n",
      "\n",
      "Training complete in 12m 59s\n",
      "Best val Acc: 0.897800\n"
     ]
    }
   ],
   "source": [
    "model_ft, criterion, optimizer_ft, exp_lr_scheduler, dataloaders, device, dataset_sizes = defineModel(True)\n",
    "model_ft = train_model(model_ft, criterion, optimizer_ft, exp_lr_scheduler, dataloaders, device, dataset_sizes,\n",
    "                       num_epochs=15)"
   ]
  },
  {
   "cell_type": "code",
   "execution_count": null,
   "metadata": {},
   "outputs": [],
   "source": []
  }
 ],
 "metadata": {
  "accelerator": "GPU",
  "colab": {
   "collapsed_sections": [],
   "name": "Data Exploration Testing",
   "provenance": []
  },
  "kernelspec": {
   "display_name": "saturn (Python 3)",
   "language": "python",
   "name": "python3"
  },
  "language_info": {
   "codemirror_mode": {
    "name": "ipython",
    "version": 3
   },
   "file_extension": ".py",
   "mimetype": "text/x-python",
   "name": "python",
   "nbconvert_exporter": "python",
   "pygments_lexer": "ipython3",
   "version": "3.9.7"
  },
  "widgets": {
   "application/vnd.jupyter.widget-state+json": {
    "00bdde35b79e4db9b185d5555e1e2641": {
     "model_module": "@jupyter-widgets/controls",
     "model_module_version": "1.5.0",
     "model_name": "FloatProgressModel",
     "state": {
      "_dom_classes": [],
      "_model_module": "@jupyter-widgets/controls",
      "_model_module_version": "1.5.0",
      "_model_name": "FloatProgressModel",
      "_view_count": null,
      "_view_module": "@jupyter-widgets/controls",
      "_view_module_version": "1.5.0",
      "_view_name": "ProgressView",
      "bar_style": "success",
      "description": "",
      "description_tooltip": null,
      "layout": "IPY_MODEL_5630f77ac1cd436d830e40db50a90f80",
      "max": 87319819,
      "min": 0,
      "orientation": "horizontal",
      "style": "IPY_MODEL_3380905c9c004914b5b248071e908492",
      "value": 87319819
     }
    },
    "093c8cd2f40641ca984e66a900af4eb7": {
     "model_module": "@jupyter-widgets/controls",
     "model_module_version": "1.5.0",
     "model_name": "DescriptionStyleModel",
     "state": {
      "_model_module": "@jupyter-widgets/controls",
      "_model_module_version": "1.5.0",
      "_model_name": "DescriptionStyleModel",
      "_view_count": null,
      "_view_module": "@jupyter-widgets/base",
      "_view_module_version": "1.2.0",
      "_view_name": "StyleView",
      "description_width": ""
     }
    },
    "3380905c9c004914b5b248071e908492": {
     "model_module": "@jupyter-widgets/controls",
     "model_module_version": "1.5.0",
     "model_name": "ProgressStyleModel",
     "state": {
      "_model_module": "@jupyter-widgets/controls",
      "_model_module_version": "1.5.0",
      "_model_name": "ProgressStyleModel",
      "_view_count": null,
      "_view_module": "@jupyter-widgets/base",
      "_view_module_version": "1.2.0",
      "_view_name": "StyleView",
      "bar_color": null,
      "description_width": ""
     }
    },
    "5630f77ac1cd436d830e40db50a90f80": {
     "model_module": "@jupyter-widgets/base",
     "model_module_version": "1.2.0",
     "model_name": "LayoutModel",
     "state": {
      "_model_module": "@jupyter-widgets/base",
      "_model_module_version": "1.2.0",
      "_model_name": "LayoutModel",
      "_view_count": null,
      "_view_module": "@jupyter-widgets/base",
      "_view_module_version": "1.2.0",
      "_view_name": "LayoutView",
      "align_content": null,
      "align_items": null,
      "align_self": null,
      "border": null,
      "bottom": null,
      "display": null,
      "flex": null,
      "flex_flow": null,
      "grid_area": null,
      "grid_auto_columns": null,
      "grid_auto_flow": null,
      "grid_auto_rows": null,
      "grid_column": null,
      "grid_gap": null,
      "grid_row": null,
      "grid_template_areas": null,
      "grid_template_columns": null,
      "grid_template_rows": null,
      "height": null,
      "justify_content": null,
      "justify_items": null,
      "left": null,
      "margin": null,
      "max_height": null,
      "max_width": null,
      "min_height": null,
      "min_width": null,
      "object_fit": null,
      "object_position": null,
      "order": null,
      "overflow": null,
      "overflow_x": null,
      "overflow_y": null,
      "padding": null,
      "right": null,
      "top": null,
      "visibility": null,
      "width": null
     }
    },
    "63714b57b4684f9c81a38f0b721c1746": {
     "model_module": "@jupyter-widgets/base",
     "model_module_version": "1.2.0",
     "model_name": "LayoutModel",
     "state": {
      "_model_module": "@jupyter-widgets/base",
      "_model_module_version": "1.2.0",
      "_model_name": "LayoutModel",
      "_view_count": null,
      "_view_module": "@jupyter-widgets/base",
      "_view_module_version": "1.2.0",
      "_view_name": "LayoutView",
      "align_content": null,
      "align_items": null,
      "align_self": null,
      "border": null,
      "bottom": null,
      "display": null,
      "flex": null,
      "flex_flow": null,
      "grid_area": null,
      "grid_auto_columns": null,
      "grid_auto_flow": null,
      "grid_auto_rows": null,
      "grid_column": null,
      "grid_gap": null,
      "grid_row": null,
      "grid_template_areas": null,
      "grid_template_columns": null,
      "grid_template_rows": null,
      "height": null,
      "justify_content": null,
      "justify_items": null,
      "left": null,
      "margin": null,
      "max_height": null,
      "max_width": null,
      "min_height": null,
      "min_width": null,
      "object_fit": null,
      "object_position": null,
      "order": null,
      "overflow": null,
      "overflow_x": null,
      "overflow_y": null,
      "padding": null,
      "right": null,
      "top": null,
      "visibility": null,
      "width": null
     }
    },
    "794fa16995a74dd187cf04aecee2bc72": {
     "model_module": "@jupyter-widgets/base",
     "model_module_version": "1.2.0",
     "model_name": "LayoutModel",
     "state": {
      "_model_module": "@jupyter-widgets/base",
      "_model_module_version": "1.2.0",
      "_model_name": "LayoutModel",
      "_view_count": null,
      "_view_module": "@jupyter-widgets/base",
      "_view_module_version": "1.2.0",
      "_view_name": "LayoutView",
      "align_content": null,
      "align_items": null,
      "align_self": null,
      "border": null,
      "bottom": null,
      "display": null,
      "flex": null,
      "flex_flow": null,
      "grid_area": null,
      "grid_auto_columns": null,
      "grid_auto_flow": null,
      "grid_auto_rows": null,
      "grid_column": null,
      "grid_gap": null,
      "grid_row": null,
      "grid_template_areas": null,
      "grid_template_columns": null,
      "grid_template_rows": null,
      "height": null,
      "justify_content": null,
      "justify_items": null,
      "left": null,
      "margin": null,
      "max_height": null,
      "max_width": null,
      "min_height": null,
      "min_width": null,
      "object_fit": null,
      "object_position": null,
      "order": null,
      "overflow": null,
      "overflow_x": null,
      "overflow_y": null,
      "padding": null,
      "right": null,
      "top": null,
      "visibility": null,
      "width": null
     }
    },
    "abe5291d66a84cf685c833ed9b130b6c": {
     "model_module": "@jupyter-widgets/controls",
     "model_module_version": "1.5.0",
     "model_name": "HBoxModel",
     "state": {
      "_dom_classes": [],
      "_model_module": "@jupyter-widgets/controls",
      "_model_module_version": "1.5.0",
      "_model_name": "HBoxModel",
      "_view_count": null,
      "_view_module": "@jupyter-widgets/controls",
      "_view_module_version": "1.5.0",
      "_view_name": "HBoxView",
      "box_style": "",
      "children": [
       "IPY_MODEL_de8bffe5fb624f34846c7821cff77d46",
       "IPY_MODEL_00bdde35b79e4db9b185d5555e1e2641",
       "IPY_MODEL_e1744ed79bde42ab99807d3f5b39e35b"
      ],
      "layout": "IPY_MODEL_e448d92e84fe45fcb0e5bcbbe5787e0b"
     }
    },
    "db59e07e5ee049728340bb49c2a3f523": {
     "model_module": "@jupyter-widgets/controls",
     "model_module_version": "1.5.0",
     "model_name": "DescriptionStyleModel",
     "state": {
      "_model_module": "@jupyter-widgets/controls",
      "_model_module_version": "1.5.0",
      "_model_name": "DescriptionStyleModel",
      "_view_count": null,
      "_view_module": "@jupyter-widgets/base",
      "_view_module_version": "1.2.0",
      "_view_name": "StyleView",
      "description_width": ""
     }
    },
    "de8bffe5fb624f34846c7821cff77d46": {
     "model_module": "@jupyter-widgets/controls",
     "model_module_version": "1.5.0",
     "model_name": "HTMLModel",
     "state": {
      "_dom_classes": [],
      "_model_module": "@jupyter-widgets/controls",
      "_model_module_version": "1.5.0",
      "_model_name": "HTMLModel",
      "_view_count": null,
      "_view_module": "@jupyter-widgets/controls",
      "_view_module_version": "1.5.0",
      "_view_name": "HTMLView",
      "description": "",
      "description_tooltip": null,
      "layout": "IPY_MODEL_794fa16995a74dd187cf04aecee2bc72",
      "placeholder": "​",
      "style": "IPY_MODEL_093c8cd2f40641ca984e66a900af4eb7",
      "value": "100%"
     }
    },
    "e1744ed79bde42ab99807d3f5b39e35b": {
     "model_module": "@jupyter-widgets/controls",
     "model_module_version": "1.5.0",
     "model_name": "HTMLModel",
     "state": {
      "_dom_classes": [],
      "_model_module": "@jupyter-widgets/controls",
      "_model_module_version": "1.5.0",
      "_model_name": "HTMLModel",
      "_view_count": null,
      "_view_module": "@jupyter-widgets/controls",
      "_view_module_version": "1.5.0",
      "_view_name": "HTMLView",
      "description": "",
      "description_tooltip": null,
      "layout": "IPY_MODEL_63714b57b4684f9c81a38f0b721c1746",
      "placeholder": "​",
      "style": "IPY_MODEL_db59e07e5ee049728340bb49c2a3f523",
      "value": " 83.3M/83.3M [00:02&lt;00:00, 25.0MB/s]"
     }
    },
    "e448d92e84fe45fcb0e5bcbbe5787e0b": {
     "model_module": "@jupyter-widgets/base",
     "model_module_version": "1.2.0",
     "model_name": "LayoutModel",
     "state": {
      "_model_module": "@jupyter-widgets/base",
      "_model_module_version": "1.2.0",
      "_model_name": "LayoutModel",
      "_view_count": null,
      "_view_module": "@jupyter-widgets/base",
      "_view_module_version": "1.2.0",
      "_view_name": "LayoutView",
      "align_content": null,
      "align_items": null,
      "align_self": null,
      "border": null,
      "bottom": null,
      "display": null,
      "flex": null,
      "flex_flow": null,
      "grid_area": null,
      "grid_auto_columns": null,
      "grid_auto_flow": null,
      "grid_auto_rows": null,
      "grid_column": null,
      "grid_gap": null,
      "grid_row": null,
      "grid_template_areas": null,
      "grid_template_columns": null,
      "grid_template_rows": null,
      "height": null,
      "justify_content": null,
      "justify_items": null,
      "left": null,
      "margin": null,
      "max_height": null,
      "max_width": null,
      "min_height": null,
      "min_width": null,
      "object_fit": null,
      "object_position": null,
      "order": null,
      "overflow": null,
      "overflow_x": null,
      "overflow_y": null,
      "padding": null,
      "right": null,
      "top": null,
      "visibility": null,
      "width": null
     }
    }
   }
  }
 },
 "nbformat": 4,
 "nbformat_minor": 4
}
