{
 "cells": [
  {
   "cell_type": "code",
   "execution_count": 1,
   "metadata": {
    "execution": {
     "iopub.execute_input": "2022-01-15T16:39:16.403949Z",
     "iopub.status.busy": "2022-01-15T16:39:16.403725Z",
     "iopub.status.idle": "2022-01-15T16:39:18.199195Z",
     "shell.execute_reply": "2022-01-15T16:39:18.198707Z",
     "shell.execute_reply.started": "2022-01-15T16:39:16.403885Z"
    },
    "id": "91ush3xSxcRq",
    "tags": []
   },
   "outputs": [
    {
     "name": "stdout",
     "output_type": "stream",
     "text": [
      "sys.version_info(major=3, minor=9, micro=7, releaselevel='final', serial=0)\n"
     ]
    }
   ],
   "source": [
    "from __future__ import print_function, division\n",
    "\n",
    "import sys\n",
    "import os, sys, tarfile, errno\n",
    "import numpy as np\n",
    "import matplotlib.pyplot as plt\n",
    "from PIL import Image\n",
    "from imageio import imsave,imread\n",
    "import pandas as pd\n",
    "import shutil\n",
    "\n",
    "import torch\n",
    "import torch.nn as nn\n",
    "import torch.optim as optim\n",
    "from torch.optim import lr_scheduler\n",
    "import torchvision\n",
    "from torchvision import datasets, models, transforms\n",
    "import matplotlib.pyplot as plt\n",
    "from matplotlib.pyplot import imshow\n",
    "import time\n",
    "import copy\n",
    "from cutout import Cutout \n",
    "\n",
    "from STLData import *\n",
    "from projectUtil import *\n",
    "plt.ion() \n",
    "%matplotlib inline"
   ]
  },
  {
   "cell_type": "code",
   "execution_count": 2,
   "metadata": {
    "execution": {
     "iopub.execute_input": "2022-01-15T16:39:18.200108Z",
     "iopub.status.busy": "2022-01-15T16:39:18.199963Z",
     "iopub.status.idle": "2022-01-15T16:39:18.204291Z",
     "shell.execute_reply": "2022-01-15T16:39:18.203875Z",
     "shell.execute_reply.started": "2022-01-15T16:39:18.200089Z"
    },
    "tags": []
   },
   "outputs": [],
   "source": [
    "def renameAndOrganize(strDir):\n",
    "    labelsDict = {1:\"airplane\",2:\"bird\",3:\"car\",4:\"cat\",5:\"deer\",6:\"dog\",7:\"horse\",8:\"monkey\",9:\"ship\",10:\"truck\"}\n",
    "    directoryList = [1,2,3,4,5,6,7,8,9,10]\n",
    "    \n",
    "    for dir in directoryList:\n",
    "      os.rename(directory + str(dir), directory + labelsDict.get(dir) + '/')\n",
    "      shutil.move(directory + labelsDict.get(dir) + '/', directory + strDir + labelsDict.get(dir) + '/')"
   ]
  },
  {
   "cell_type": "code",
   "execution_count": 3,
   "metadata": {
    "execution": {
     "iopub.execute_input": "2022-01-15T16:39:18.205122Z",
     "iopub.status.busy": "2022-01-15T16:39:18.204904Z",
     "iopub.status.idle": "2022-01-15T16:39:18.208719Z",
     "shell.execute_reply": "2022-01-15T16:39:18.208317Z",
     "shell.execute_reply.started": "2022-01-15T16:39:18.205104Z"
    },
    "tags": []
   },
   "outputs": [],
   "source": [
    "def displayContrast(meanImg1, meanImg2, meanClass1, meanClass2):\n",
    "    contrast_mean = meanImg1 - meanImg2\n",
    "    plt.imshow(contrast_mean, cmap='bwr')\n",
    "    plt.title(f'Difference Between ' + meanClass1 + ' & ' + meanClass2 + ' Average')\n",
    "    plt.axis('off')\n",
    "    plt.show()"
   ]
  },
  {
   "cell_type": "code",
   "execution_count": 4,
   "metadata": {
    "colab": {
     "base_uri": "https://localhost:8080/",
     "height": 1000
    },
    "execution": {
     "iopub.execute_input": "2022-01-15T16:39:18.210084Z",
     "iopub.status.busy": "2022-01-15T16:39:18.209860Z",
     "iopub.status.idle": "2022-01-15T16:39:18.262248Z",
     "shell.execute_reply": "2022-01-15T16:39:18.261771Z",
     "shell.execute_reply.started": "2022-01-15T16:39:18.210066Z"
    },
    "id": "rbUFaO1Nxya5",
    "outputId": "59c483a2-055c-46cf-81a0-87e1d2fd84c1",
    "tags": []
   },
   "outputs": [
    {
     "name": "stdout",
     "output_type": "stream",
     "text": [
      "(5000, 96, 96, 3)\n",
      "(5000,)\n"
     ]
    }
   ],
   "source": [
    "imagesList = \"\"\n",
    "labels = \"\"\n",
    "# download data if needed\n",
    "if not os.path.isdir('./data/stl10_binary'):\n",
    "    download_and_extract()\n",
    "\n",
    "# test to check if the whole dataset is read correctly\n",
    "imagesList = read_all_images('./data/stl10_binary/train_X.bin')\n",
    "print(imagesList.shape)\n",
    "\n",
    "labels = read_labels('./data/stl10_binary/train_y.bin')\n",
    "print(labels.shape)\n",
    "\n",
    "if not os.path.isdir('./img/val'):\n",
    "    # save images to disk\n",
    "    save_images(imagesList, labels)\n",
    "    directory = './img/'\n",
    "    os.makedirs(directory + 'val/')\n",
    "    renameAndOrganize('val/')"
   ]
  },
  {
   "cell_type": "code",
   "execution_count": 5,
   "metadata": {
    "colab": {
     "base_uri": "https://localhost:8080/"
    },
    "execution": {
     "iopub.execute_input": "2022-01-15T16:39:18.263198Z",
     "iopub.status.busy": "2022-01-15T16:39:18.262995Z",
     "iopub.status.idle": "2022-01-15T16:39:18.353500Z",
     "shell.execute_reply": "2022-01-15T16:39:18.352985Z",
     "shell.execute_reply.started": "2022-01-15T16:39:18.263178Z"
    },
    "id": "g4G2ZN9xJJAU",
    "outputId": "eae2b4f3-48f2-4933-b0f2-0b4bb2500da2",
    "tags": []
   },
   "outputs": [],
   "source": [
    "testImagesList = read_all_images('./data/stl10_binary/test_X.bin')\n",
    "\n",
    "testLabels = read_labels('./data/stl10_binary/test_y.bin')\n",
    "\n",
    "if not os.path.isdir('./img/train'):\n",
    "    save_images(testImagesList, testLabels)\n",
    "    directory = './img/'\n",
    "    os.makedirs(directory + 'train/')\n",
    "    renameAndOrganize('train/')"
   ]
  },
  {
   "cell_type": "code",
   "execution_count": 6,
   "metadata": {
    "colab": {
     "base_uri": "https://localhost:8080/",
     "height": 316
    },
    "execution": {
     "iopub.execute_input": "2022-01-15T16:39:18.354519Z",
     "iopub.status.busy": "2022-01-15T16:39:18.354301Z",
     "iopub.status.idle": "2022-01-15T16:39:18.475121Z",
     "shell.execute_reply": "2022-01-15T16:39:18.474703Z",
     "shell.execute_reply.started": "2022-01-15T16:39:18.354500Z"
    },
    "id": "hMmePLYK1Bt5",
    "outputId": "519baccd-8826-404b-863e-1e0ec766ead0",
    "tags": []
   },
   "outputs": [
    {
     "data": {
      "text/plain": [
       "array([[<AxesSubplot:title={'center':'0'}>]], dtype=object)"
      ]
     },
     "execution_count": 6,
     "metadata": {},
     "output_type": "execute_result"
    },
    {
     "data": {
      "image/png": "[encoded data removed]",
      "text/plain": [
       "<Figure size 432x288 with 1 Axes>"
      ]
     },
     "metadata": {
      "needs_background": "light"
     },
     "output_type": "display_data"
    }
   ],
   "source": [
    "pd.DataFrame(labels).hist()"
   ]
  },
  {
   "cell_type": "code",
   "execution_count": 7,
   "metadata": {
    "execution": {
     "iopub.execute_input": "2022-01-15T16:39:18.476026Z",
     "iopub.status.busy": "2022-01-15T16:39:18.475819Z",
     "iopub.status.idle": "2022-01-15T16:39:23.320746Z",
     "shell.execute_reply": "2022-01-15T16:39:23.320230Z",
     "shell.execute_reply.started": "2022-01-15T16:39:18.476007Z"
    },
    "id": "aAdOX-ZOqIxd",
    "tags": []
   },
   "outputs": [],
   "source": [
    "airplane_images = img2np(imagesList, 'airplane',labels)\n",
    "bird_images = img2np(imagesList,'bird',labels)\n",
    "car_images = img2np(imagesList,'car',labels)\n",
    "cat_images = img2np(imagesList, 'cat',labels)\n",
    "deer_images = img2np(imagesList, 'deer',labels)\n",
    "dog_images = img2np(imagesList, 'dog',labels)\n",
    "horse_images = img2np(imagesList, 'horse',labels)\n",
    "monkey_images = img2np(imagesList, 'monkey',labels)\n",
    "ship_images = img2np(imagesList, 'ship',labels)\n",
    "truck_images = img2np(imagesList, 'truck',labels)"
   ]
  },
  {
   "cell_type": "code",
   "execution_count": 8,
   "metadata": {
    "execution": {
     "iopub.execute_input": "2022-01-15T16:39:23.321656Z",
     "iopub.status.busy": "2022-01-15T16:39:23.321507Z",
     "iopub.status.idle": "2022-01-15T16:39:23.436796Z",
     "shell.execute_reply": "2022-01-15T16:39:23.436343Z",
     "shell.execute_reply.started": "2022-01-15T16:39:23.321638Z"
    },
    "id": "4bnLPBqgx5GA",
    "tags": []
   },
   "outputs": [],
   "source": [
    "airplane_mean = find_mean_img(airplane_images)\n",
    "bird_mean = find_mean_img(bird_images)\n",
    "car_mean = find_mean_img(car_images)\n",
    "cat_mean = find_mean_img(cat_images)\n",
    "deer_mean = find_mean_img(deer_images)\n",
    "dog_mean = find_mean_img(dog_images)\n",
    "horse_mean = find_mean_img(horse_images)\n",
    "monkey_mean = find_mean_img(monkey_images)\n",
    "ship_mean = find_mean_img(ship_images)\n",
    "truck_mean = find_mean_img(truck_images)"
   ]
  },
  {
   "cell_type": "code",
   "execution_count": 9,
   "metadata": {
    "colab": {
     "base_uri": "https://localhost:8080/",
     "height": 264
    },
    "execution": {
     "iopub.execute_input": "2022-01-15T16:39:23.437650Z",
     "iopub.status.busy": "2022-01-15T16:39:23.437501Z",
     "iopub.status.idle": "2022-01-15T16:39:23.495954Z",
     "shell.execute_reply": "2022-01-15T16:39:23.495488Z",
     "shell.execute_reply.started": "2022-01-15T16:39:23.437632Z"
    },
    "id": "lUYhhIGoEvmW",
    "outputId": "def4f7a8-5404-48ad-e2c4-8cd51a851921",
    "tags": []
   },
   "outputs": [
    {
     "name": "stderr",
     "output_type": "stream",
     "text": [
      "Clipping input data to the valid range for imshow with RGB data ([0..1] for floats or [0..255] for integers).\n"
     ]
    },
    {
     "data": {
      "image/png": "[encoded data removed]",
      "text/plain": [
       "<Figure size 432x288 with 1 Axes>"
      ]
     },
     "metadata": {
      "needs_background": "light"
     },
     "output_type": "display_data"
    }
   ],
   "source": [
    "displayContrast(dog_mean, cat_mean, 'Dog', 'Cat')"
   ]
  },
  {
   "cell_type": "code",
   "execution_count": 10,
   "metadata": {
    "colab": {
     "base_uri": "https://localhost:8080/",
     "height": 264
    },
    "execution": {
     "iopub.execute_input": "2022-01-15T16:39:23.496766Z",
     "iopub.status.busy": "2022-01-15T16:39:23.496623Z",
     "iopub.status.idle": "2022-01-15T16:39:23.555584Z",
     "shell.execute_reply": "2022-01-15T16:39:23.555165Z",
     "shell.execute_reply.started": "2022-01-15T16:39:23.496749Z"
    },
    "id": "pZFf6FKsgLQl",
    "outputId": "c14cedc0-8641-4724-945b-71ee20e90f8f",
    "tags": []
   },
   "outputs": [
    {
     "name": "stderr",
     "output_type": "stream",
     "text": [
      "Clipping input data to the valid range for imshow with RGB data ([0..1] for floats or [0..255] for integers).\n"
     ]
    },
    {
     "data": {
      "image/png": "[encoded data removed]",
      "text/plain": [
       "<Figure size 432x288 with 1 Axes>"
      ]
     },
     "metadata": {
      "needs_background": "light"
     },
     "output_type": "display_data"
    }
   ],
   "source": [
    "displayContrast(deer_mean, horse_mean, 'Deer', 'Horse')"
   ]
  },
  {
   "cell_type": "code",
   "execution_count": 11,
   "metadata": {
    "colab": {
     "base_uri": "https://localhost:8080/",
     "height": 264
    },
    "execution": {
     "iopub.execute_input": "2022-01-15T16:39:23.556324Z",
     "iopub.status.busy": "2022-01-15T16:39:23.556191Z",
     "iopub.status.idle": "2022-01-15T16:39:23.609610Z",
     "shell.execute_reply": "2022-01-15T16:39:23.609193Z",
     "shell.execute_reply.started": "2022-01-15T16:39:23.556307Z"
    },
    "id": "_Twqwa7oga1n",
    "outputId": "50c80ff5-835b-4e19-b0ff-16acedeb798d",
    "tags": []
   },
   "outputs": [
    {
     "name": "stderr",
     "output_type": "stream",
     "text": [
      "Clipping input data to the valid range for imshow with RGB data ([0..1] for floats or [0..255] for integers).\n"
     ]
    },
    {
     "data": {
      "image/png": "[encoded data removed]",
      "text/plain": [
       "<Figure size 432x288 with 1 Axes>"
      ]
     },
     "metadata": {
      "needs_background": "light"
     },
     "output_type": "display_data"
    }
   ],
   "source": [
    "displayContrast(car_mean, truck_mean, 'Car', 'Truck')"
   ]
  },
  {
   "cell_type": "code",
   "execution_count": 12,
   "metadata": {
    "colab": {
     "base_uri": "https://localhost:8080/",
     "height": 264
    },
    "execution": {
     "iopub.execute_input": "2022-01-15T16:39:23.610320Z",
     "iopub.status.busy": "2022-01-15T16:39:23.610184Z",
     "iopub.status.idle": "2022-01-15T16:39:23.659877Z",
     "shell.execute_reply": "2022-01-15T16:39:23.659440Z",
     "shell.execute_reply.started": "2022-01-15T16:39:23.610302Z"
    },
    "id": "UWoS1B1bgoB9",
    "outputId": "dc6409ee-8011-43e7-d036-a6eff18ecbd8",
    "tags": []
   },
   "outputs": [
    {
     "name": "stderr",
     "output_type": "stream",
     "text": [
      "Clipping input data to the valid range for imshow with RGB data ([0..1] for floats or [0..255] for integers).\n"
     ]
    },
    {
     "data": {
      "image/png": "[encoded data removed]",
      "text/plain": [
       "<Figure size 432x288 with 1 Axes>"
      ]
     },
     "metadata": {
      "needs_background": "light"
     },
     "output_type": "display_data"
    }
   ],
   "source": [
    "displayContrast(airplane_mean, bird_mean, 'Airplane', 'Bird')"
   ]
  },
  {
   "cell_type": "code",
   "execution_count": 13,
   "metadata": {
    "execution": {
     "iopub.execute_input": "2022-01-15T16:39:23.661427Z",
     "iopub.status.busy": "2022-01-15T16:39:23.661281Z",
     "iopub.status.idle": "2022-01-15T16:39:23.711336Z",
     "shell.execute_reply": "2022-01-15T16:39:23.710921Z",
     "shell.execute_reply.started": "2022-01-15T16:39:23.661409Z"
    }
   },
   "outputs": [
    {
     "name": "stderr",
     "output_type": "stream",
     "text": [
      "Clipping input data to the valid range for imshow with RGB data ([0..1] for floats or [0..255] for integers).\n"
     ]
    },
    {
     "data": {
      "image/png": "[encoded data removed]",
      "text/plain": [
       "<Figure size 432x288 with 1 Axes>"
      ]
     },
     "metadata": {
      "needs_background": "light"
     },
     "output_type": "display_data"
    }
   ],
   "source": [
    "displayContrast(monkey_mean, ship_mean, 'Monkey', 'Ship')"
   ]
  },
  {
   "cell_type": "code",
   "execution_count": 14,
   "metadata": {
    "colab": {
     "base_uri": "https://localhost:8080/"
    },
    "execution": {
     "iopub.execute_input": "2022-01-15T16:39:23.712049Z",
     "iopub.status.busy": "2022-01-15T16:39:23.711913Z",
     "iopub.status.idle": "2022-01-15T16:52:20.239513Z",
     "shell.execute_reply": "2022-01-15T16:52:20.238952Z",
     "shell.execute_reply.started": "2022-01-15T16:39:23.712032Z"
    },
    "id": "92dn29QDInBy",
    "outputId": "e4e4a303-ec1c-4767-fcdd-43d4510b7c8e",
    "tags": []
   },
   "outputs": [
    {
     "name": "stdout",
     "output_type": "stream",
     "text": [
      "Epoch 0/14\n",
      "----------\n",
      "train Loss: 1.2166 Acc: 0.6161\n",
      "val Loss: 0.5843 Acc: 0.8140\n",
      "\n",
      "Epoch 1/14\n",
      "----------\n",
      "train Loss: 0.6641 Acc: 0.7874\n",
      "val Loss: 0.4670 Acc: 0.8442\n",
      "\n",
      "Epoch 2/14\n",
      "----------\n",
      "train Loss: 0.4577 Acc: 0.8496\n",
      "val Loss: 0.5564 Acc: 0.8348\n",
      "\n",
      "Epoch 3/14\n",
      "----------\n",
      "train Loss: 0.3377 Acc: 0.8899\n",
      "val Loss: 0.5639 Acc: 0.8360\n",
      "\n",
      "Epoch 4/14\n",
      "----------\n",
      "train Loss: 0.2447 Acc: 0.9171\n",
      "val Loss: 0.5382 Acc: 0.8386\n",
      "\n",
      "Epoch 5/14\n",
      "----------\n",
      "train Loss: 0.1837 Acc: 0.9437\n",
      "val Loss: 0.5783 Acc: 0.8452\n",
      "\n",
      "Epoch 6/14\n",
      "----------\n",
      "train Loss: 0.1325 Acc: 0.9600\n",
      "val Loss: 0.4942 Acc: 0.8650\n",
      "\n",
      "Epoch 7/14\n",
      "----------\n",
      "train Loss: 0.0673 Acc: 0.9809\n",
      "val Loss: 0.4305 Acc: 0.8826\n",
      "\n",
      "Epoch 8/14\n",
      "----------\n",
      "train Loss: 0.0416 Acc: 0.9888\n",
      "val Loss: 0.3989 Acc: 0.8852\n",
      "\n",
      "Epoch 9/14\n",
      "----------\n",
      "train Loss: 0.0368 Acc: 0.9906\n",
      "val Loss: 0.4121 Acc: 0.8930\n",
      "\n",
      "Epoch 10/14\n",
      "----------\n",
      "train Loss: 0.0314 Acc: 0.9919\n",
      "val Loss: 0.4292 Acc: 0.8894\n",
      "\n",
      "Epoch 11/14\n",
      "----------\n",
      "train Loss: 0.0259 Acc: 0.9936\n",
      "val Loss: 0.4034 Acc: 0.8908\n",
      "\n",
      "Epoch 12/14\n",
      "----------\n",
      "train Loss: 0.0218 Acc: 0.9959\n",
      "val Loss: 0.4071 Acc: 0.8904\n",
      "\n",
      "Epoch 13/14\n",
      "----------\n",
      "train Loss: 0.0169 Acc: 0.9960\n",
      "val Loss: 0.4006 Acc: 0.8928\n",
      "\n",
      "Epoch 14/14\n",
      "----------\n",
      "train Loss: 0.0192 Acc: 0.9956\n",
      "val Loss: 0.4060 Acc: 0.8912\n",
      "\n",
      "Training complete in 12m 53s\n",
      "Best val Acc: 0.893000\n"
     ]
    }
   ],
   "source": [
    "model_ft, criterion, optimizer_ft, exp_lr_scheduler, dataloaders, device, dataset_sizes = defineModel(False)\n",
    "model_ft = train_model(model_ft, criterion, optimizer_ft, exp_lr_scheduler, dataloaders, device, dataset_sizes,\n",
    "                       num_epochs=15)"
   ]
  },
  {
   "cell_type": "code",
   "execution_count": 15,
   "metadata": {
    "execution": {
     "iopub.execute_input": "2022-01-15T16:52:20.240765Z",
     "iopub.status.busy": "2022-01-15T16:52:20.240596Z",
     "iopub.status.idle": "2022-01-15T17:05:13.123435Z",
     "shell.execute_reply": "2022-01-15T17:05:13.122863Z",
     "shell.execute_reply.started": "2022-01-15T16:52:20.240743Z"
    },
    "tags": []
   },
   "outputs": [
    {
     "name": "stdout",
     "output_type": "stream",
     "text": [
      "Epoch 0/14\n",
      "----------\n",
      "train Loss: 1.2118 Acc: 0.6168\n",
      "val Loss: 0.6373 Acc: 0.8050\n",
      "\n",
      "Epoch 1/14\n",
      "----------\n",
      "train Loss: 0.6742 Acc: 0.7790\n",
      "val Loss: 0.5340 Acc: 0.8398\n",
      "\n",
      "Epoch 2/14\n",
      "----------\n",
      "train Loss: 0.4814 Acc: 0.8438\n",
      "val Loss: 0.6091 Acc: 0.8346\n",
      "\n",
      "Epoch 3/14\n",
      "----------\n",
      "train Loss: 0.3733 Acc: 0.8772\n",
      "val Loss: 0.5518 Acc: 0.8480\n",
      "\n",
      "Epoch 4/14\n",
      "----------\n",
      "train Loss: 0.2822 Acc: 0.9089\n",
      "val Loss: 0.5271 Acc: 0.8474\n",
      "\n",
      "Epoch 5/14\n",
      "----------\n",
      "train Loss: 0.1987 Acc: 0.9365\n",
      "val Loss: 0.4748 Acc: 0.8536\n",
      "\n",
      "Epoch 6/14\n",
      "----------\n",
      "train Loss: 0.1647 Acc: 0.9475\n",
      "val Loss: 0.4886 Acc: 0.8674\n",
      "\n",
      "Epoch 7/14\n",
      "----------\n",
      "train Loss: 0.0736 Acc: 0.9766\n",
      "val Loss: 0.3732 Acc: 0.8898\n",
      "\n",
      "Epoch 8/14\n",
      "----------\n",
      "train Loss: 0.0430 Acc: 0.9878\n",
      "val Loss: 0.3517 Acc: 0.8950\n",
      "\n",
      "Epoch 9/14\n",
      "----------\n",
      "train Loss: 0.0374 Acc: 0.9914\n",
      "val Loss: 0.3486 Acc: 0.9002\n",
      "\n",
      "Epoch 10/14\n",
      "----------\n",
      "train Loss: 0.0327 Acc: 0.9920\n",
      "val Loss: 0.3560 Acc: 0.8992\n",
      "\n",
      "Epoch 11/14\n",
      "----------\n",
      "train Loss: 0.0295 Acc: 0.9930\n",
      "val Loss: 0.3585 Acc: 0.8994\n",
      "\n",
      "Epoch 12/14\n",
      "----------\n",
      "train Loss: 0.0223 Acc: 0.9945\n",
      "val Loss: 0.3641 Acc: 0.8994\n",
      "\n",
      "Epoch 13/14\n",
      "----------\n",
      "train Loss: 0.0271 Acc: 0.9949\n",
      "val Loss: 0.3509 Acc: 0.8998\n",
      "\n",
      "Epoch 14/14\n",
      "----------\n",
      "train Loss: 0.0266 Acc: 0.9936\n",
      "val Loss: 0.3470 Acc: 0.9032\n",
      "\n",
      "Training complete in 12m 52s\n",
      "Best val Acc: 0.903200\n"
     ]
    }
   ],
   "source": [
    "model_ft, criterion, optimizer_ft, exp_lr_scheduler, dataloaders, device, dataset_sizes = defineModel(True)\n",
    "model_ft = train_model(model_ft, criterion, optimizer_ft, exp_lr_scheduler, dataloaders, device, dataset_sizes,\n",
    "                       num_epochs=15)"
   ]
  },
  {
   "cell_type": "code",
   "execution_count": null,
   "metadata": {},
   "outputs": [],
   "source": []
  }
 ],
 "metadata": {
  "accelerator": "GPU",
  "colab": {
   "collapsed_sections": [],
   "name": "Data Exploration Testing",
   "provenance": []
  },
  "kernelspec": {
   "display_name": "saturn (Python 3)",
   "language": "python",
   "name": "python3"
  },
  "language_info": {
   "codemirror_mode": {
    "name": "ipython",
    "version": 3
   },
   "file_extension": ".py",
   "mimetype": "text/x-python",
   "name": "python",
   "nbconvert_exporter": "python",
   "pygments_lexer": "ipython3",
   "version": "3.9.7"
  },
  "widgets": {
   "application/vnd.jupyter.widget-state+json": {
    "00bdde35b79e4db9b185d5555e1e2641": {
     "model_module": "@jupyter-widgets/controls",
     "model_module_version": "1.5.0",
     "model_name": "FloatProgressModel",
     "state": {
      "_dom_classes": [],
      "_model_module": "@jupyter-widgets/controls",
      "_model_module_version": "1.5.0",
      "_model_name": "FloatProgressModel",
      "_view_count": null,
      "_view_module": "@jupyter-widgets/controls",
      "_view_module_version": "1.5.0",
      "_view_name": "ProgressView",
      "bar_style": "success",
      "description": "",
      "description_tooltip": null,
      "layout": "IPY_MODEL_5630f77ac1cd436d830e40db50a90f80",
      "max": 87319819,
      "min": 0,
      "orientation": "horizontal",
      "style": "IPY_MODEL_3380905c9c004914b5b248071e908492",
      "value": 87319819
     }
    },
    "093c8cd2f40641ca984e66a900af4eb7": {
     "model_module": "@jupyter-widgets/controls",
     "model_module_version": "1.5.0",
     "model_name": "DescriptionStyleModel",
     "state": {
      "_model_module": "@jupyter-widgets/controls",
      "_model_module_version": "1.5.0",
      "_model_name": "DescriptionStyleModel",
      "_view_count": null,
      "_view_module": "@jupyter-widgets/base",
      "_view_module_version": "1.2.0",
      "_view_name": "StyleView",
      "description_width": ""
     }
    },
    "3380905c9c004914b5b248071e908492": {
     "model_module": "@jupyter-widgets/controls",
     "model_module_version": "1.5.0",
     "model_name": "ProgressStyleModel",
     "state": {
      "_model_module": "@jupyter-widgets/controls",
      "_model_module_version": "1.5.0",
      "_model_name": "ProgressStyleModel",
      "_view_count": null,
      "_view_module": "@jupyter-widgets/base",
      "_view_module_version": "1.2.0",
      "_view_name": "StyleView",
      "bar_color": null,
      "description_width": ""
     }
    },
    "5630f77ac1cd436d830e40db50a90f80": {
     "model_module": "@jupyter-widgets/base",
     "model_module_version": "1.2.0",
     "model_name": "LayoutModel",
     "state": {
      "_model_module": "@jupyter-widgets/base",
      "_model_module_version": "1.2.0",
      "_model_name": "LayoutModel",
      "_view_count": null,
      "_view_module": "@jupyter-widgets/base",
      "_view_module_version": "1.2.0",
      "_view_name": "LayoutView",
      "align_content": null,
      "align_items": null,
      "align_self": null,
      "border": null,
      "bottom": null,
      "display": null,
      "flex": null,
      "flex_flow": null,
      "grid_area": null,
      "grid_auto_columns": null,
      "grid_auto_flow": null,
      "grid_auto_rows": null,
      "grid_column": null,
      "grid_gap": null,
      "grid_row": null,
      "grid_template_areas": null,
      "grid_template_columns": null,
      "grid_template_rows": null,
      "height": null,
      "justify_content": null,
      "justify_items": null,
      "left": null,
      "margin": null,
      "max_height": null,
      "max_width": null,
      "min_height": null,
      "min_width": null,
      "object_fit": null,
      "object_position": null,
      "order": null,
      "overflow": null,
      "overflow_x": null,
      "overflow_y": null,
      "padding": null,
      "right": null,
      "top": null,
      "visibility": null,
      "width": null
     }
    },
    "63714b57b4684f9c81a38f0b721c1746": {
     "model_module": "@jupyter-widgets/base",
     "model_module_version": "1.2.0",
     "model_name": "LayoutModel",
     "state": {
      "_model_module": "@jupyter-widgets/base",
      "_model_module_version": "1.2.0",
      "_model_name": "LayoutModel",
      "_view_count": null,
      "_view_module": "@jupyter-widgets/base",
      "_view_module_version": "1.2.0",
      "_view_name": "LayoutView",
      "align_content": null,
      "align_items": null,
      "align_self": null,
      "border": null,
      "bottom": null,
      "display": null,
      "flex": null,
      "flex_flow": null,
      "grid_area": null,
      "grid_auto_columns": null,
      "grid_auto_flow": null,
      "grid_auto_rows": null,
      "grid_column": null,
      "grid_gap": null,
      "grid_row": null,
      "grid_template_areas": null,
      "grid_template_columns": null,
      "grid_template_rows": null,
      "height": null,
      "justify_content": null,
      "justify_items": null,
      "left": null,
      "margin": null,
      "max_height": null,
      "max_width": null,
      "min_height": null,
      "min_width": null,
      "object_fit": null,
      "object_position": null,
      "order": null,
      "overflow": null,
      "overflow_x": null,
      "overflow_y": null,
      "padding": null,
      "right": null,
      "top": null,
      "visibility": null,
      "width": null
     }
    },
    "794fa16995a74dd187cf04aecee2bc72": {
     "model_module": "@jupyter-widgets/base",
     "model_module_version": "1.2.0",
     "model_name": "LayoutModel",
     "state": {
      "_model_module": "@jupyter-widgets/base",
      "_model_module_version": "1.2.0",
      "_model_name": "LayoutModel",
      "_view_count": null,
      "_view_module": "@jupyter-widgets/base",
      "_view_module_version": "1.2.0",
      "_view_name": "LayoutView",
      "align_content": null,
      "align_items": null,
      "align_self": null,
      "border": null,
      "bottom": null,
      "display": null,
      "flex": null,
      "flex_flow": null,
      "grid_area": null,
      "grid_auto_columns": null,
      "grid_auto_flow": null,
      "grid_auto_rows": null,
      "grid_column": null,
      "grid_gap": null,
      "grid_row": null,
      "grid_template_areas": null,
      "grid_template_columns": null,
      "grid_template_rows": null,
      "height": null,
      "justify_content": null,
      "justify_items": null,
      "left": null,
      "margin": null,
      "max_height": null,
      "max_width": null,
      "min_height": null,
      "min_width": null,
      "object_fit": null,
      "object_position": null,
      "order": null,
      "overflow": null,
      "overflow_x": null,
      "overflow_y": null,
      "padding": null,
      "right": null,
      "top": null,
      "visibility": null,
      "width": null
     }
    },
    "abe5291d66a84cf685c833ed9b130b6c": {
     "model_module": "@jupyter-widgets/controls",
     "model_module_version": "1.5.0",
     "model_name": "HBoxModel",
     "state": {
      "_dom_classes": [],
      "_model_module": "@jupyter-widgets/controls",
      "_model_module_version": "1.5.0",
      "_model_name": "HBoxModel",
      "_view_count": null,
      "_view_module": "@jupyter-widgets/controls",
      "_view_module_version": "1.5.0",
      "_view_name": "HBoxView",
      "box_style": "",
      "children": [
       "IPY_MODEL_de8bffe5fb624f34846c7821cff77d46",
       "IPY_MODEL_00bdde35b79e4db9b185d5555e1e2641",
       "IPY_MODEL_e1744ed79bde42ab99807d3f5b39e35b"
      ],
      "layout": "IPY_MODEL_e448d92e84fe45fcb0e5bcbbe5787e0b"
     }
    },
    "db59e07e5ee049728340bb49c2a3f523": {
     "model_module": "@jupyter-widgets/controls",
     "model_module_version": "1.5.0",
     "model_name": "DescriptionStyleModel",
     "state": {
      "_model_module": "@jupyter-widgets/controls",
      "_model_module_version": "1.5.0",
      "_model_name": "DescriptionStyleModel",
      "_view_count": null,
      "_view_module": "@jupyter-widgets/base",
      "_view_module_version": "1.2.0",
      "_view_name": "StyleView",
      "description_width": ""
     }
    },
    "de8bffe5fb624f34846c7821cff77d46": {
     "model_module": "@jupyter-widgets/controls",
     "model_module_version": "1.5.0",
     "model_name": "HTMLModel",
     "state": {
      "_dom_classes": [],
      "_model_module": "@jupyter-widgets/controls",
      "_model_module_version": "1.5.0",
      "_model_name": "HTMLModel",
      "_view_count": null,
      "_view_module": "@jupyter-widgets/controls",
      "_view_module_version": "1.5.0",
      "_view_name": "HTMLView",
      "description": "",
      "description_tooltip": null,
      "layout": "IPY_MODEL_794fa16995a74dd187cf04aecee2bc72",
      "placeholder": "​",
      "style": "IPY_MODEL_093c8cd2f40641ca984e66a900af4eb7",
      "value": "100%"
     }
    },
    "e1744ed79bde42ab99807d3f5b39e35b": {
     "model_module": "@jupyter-widgets/controls",
     "model_module_version": "1.5.0",
     "model_name": "HTMLModel",
     "state": {
      "_dom_classes": [],
      "_model_module": "@jupyter-widgets/controls",
      "_model_module_version": "1.5.0",
      "_model_name": "HTMLModel",
      "_view_count": null,
      "_view_module": "@jupyter-widgets/controls",
      "_view_module_version": "1.5.0",
      "_view_name": "HTMLView",
      "description": "",
      "description_tooltip": null,
      "layout": "IPY_MODEL_63714b57b4684f9c81a38f0b721c1746",
      "placeholder": "​",
      "style": "IPY_MODEL_db59e07e5ee049728340bb49c2a3f523",
      "value": " 83.3M/83.3M [00:02&lt;00:00, 25.0MB/s]"
     }
    },
    "e448d92e84fe45fcb0e5bcbbe5787e0b": {
     "model_module": "@jupyter-widgets/base",
     "model_module_version": "1.2.0",
     "model_name": "LayoutModel",
     "state": {
      "_model_module": "@jupyter-widgets/base",
      "_model_module_version": "1.2.0",
      "_model_name": "LayoutModel",
      "_view_count": null,
      "_view_module": "@jupyter-widgets/base",
      "_view_module_version": "1.2.0",
      "_view_name": "LayoutView",
      "align_content": null,
      "align_items": null,
      "align_self": null,
      "border": null,
      "bottom": null,
      "display": null,
      "flex": null,
      "flex_flow": null,
      "grid_area": null,
      "grid_auto_columns": null,
      "grid_auto_flow": null,
      "grid_auto_rows": null,
      "grid_column": null,
      "grid_gap": null,
      "grid_row": null,
      "grid_template_areas": null,
      "grid_template_columns": null,
      "grid_template_rows": null,
      "height": null,
      "justify_content": null,
      "justify_items": null,
      "left": null,
      "margin": null,
      "max_height": null,
      "max_width": null,
      "min_height": null,
      "min_width": null,
      "object_fit": null,
      "object_position": null,
      "order": null,
      "overflow": null,
      "overflow_x": null,
      "overflow_y": null,
      "padding": null,
      "right": null,
      "top": null,
      "visibility": null,
      "width": null
     }
    }
   }
  }
 },
 "nbformat": 4,
 "nbformat_minor": 4
}
